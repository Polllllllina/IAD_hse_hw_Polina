{
  "cells": [
    {
      "cell_type": "markdown",
      "metadata": {
        "_uuid": "21c25e4f8bb31570029fd6b069131a5d00f84cf1",
        "id": "gnjfC7pmOqE1"
      },
      "source": [
        "# Домашнее задание 2 (5 баллов).\n",
        "\n",
        "Все задания ниже имеют равный вес (5/16)."
      ]
    },
    {
      "cell_type": "code",
      "execution_count": 1,
      "metadata": {
        "_uuid": "568eb2d31004b87d22e119112ae01a1e75105f1d",
        "id": "Xe6CKhusOqE5"
      },
      "outputs": [],
      "source": [
        "import pandas as pd"
      ]
    },
    {
      "cell_type": "markdown",
      "metadata": {
        "id": "QtY1m51bOqE7"
      },
      "source": [
        "#### Описание данных\n",
        "\n",
        "В папке Data находится информация о студентах. Всего 10 групп студентов. Файлы делятся на две категории:\n",
        "    * Students_info_i - информация о студентах из группы i\n",
        "    * Students_marks_i - оценки студентов из группы i за экзамены"
      ]
    },
    {
      "cell_type": "markdown",
      "metadata": {
        "id": "dLc0jAz2OqE8"
      },
      "source": [
        "### Одно из важных достоинств pandas $-$ это удобные методы реляционного взаимодействия с данными, аналогичные, например, возможностям SQL для слияния и конкатенации таблиц: merge, join, concat. Наличие готовых методов позволяет не реализовывать самостоятельно поэлементную обработку данных и оперировать сразу целыми таблицами данных.\n",
        "\n",
        "Подробно об этих методах посмотрите тут: https://www.kaggle.com/residentmario/renaming-and-combining#Combining"
      ]
    },
    {
      "cell_type": "markdown",
      "metadata": {
        "id": "NGd6JbTxOqE9"
      },
      "source": [
        "#### Задание 1. Соберите всю информацию о студентах в одну таблицу df. В получившейся таблице должна быть информация и оценки всех студентов из всех групп. Напечатайте несколько строк таблицы для демонстрации результата.¶"
      ]
    },
    {
      "cell_type": "code",
      "source": [
        "!wget \"https://github.com/shmihmih/iad-intro-ds/raw/79346b318e6db5d5381a7f0e14c38907127fe743/2023/homeworks/Data.zip\"\n",
        "!unzip \"Data.zip\""
      ],
      "metadata": {
        "colab": {
          "base_uri": "https://localhost:8080/"
        },
        "id": "bWn602NfWKt4",
        "outputId": "e05c6128-cf06-4aad-a84b-2b5e0f8a40b3"
      },
      "execution_count": 2,
      "outputs": [
        {
          "output_type": "stream",
          "name": "stdout",
          "text": [
            "--2023-02-16 08:10:29--  https://github.com/shmihmih/iad-intro-ds/raw/79346b318e6db5d5381a7f0e14c38907127fe743/2023/homeworks/Data.zip\n",
            "Resolving github.com (github.com)... 140.82.113.4\n",
            "Connecting to github.com (github.com)|140.82.113.4|:443... connected.\n",
            "HTTP request sent, awaiting response... 302 Found\n",
            "Location: https://raw.githubusercontent.com/shmihmih/iad-intro-ds/79346b318e6db5d5381a7f0e14c38907127fe743/2023/homeworks/Data.zip [following]\n",
            "--2023-02-16 08:10:29--  https://raw.githubusercontent.com/shmihmih/iad-intro-ds/79346b318e6db5d5381a7f0e14c38907127fe743/2023/homeworks/Data.zip\n",
            "Resolving raw.githubusercontent.com (raw.githubusercontent.com)... 185.199.110.133, 185.199.108.133, 185.199.109.133, ...\n",
            "Connecting to raw.githubusercontent.com (raw.githubusercontent.com)|185.199.110.133|:443... connected.\n",
            "HTTP request sent, awaiting response... 200 OK\n",
            "Length: 16727 (16K) [application/zip]\n",
            "Saving to: ‘Data.zip’\n",
            "\n",
            "Data.zip            100%[===================>]  16.33K  --.-KB/s    in 0.001s  \n",
            "\n",
            "2023-02-16 08:10:29 (18.1 MB/s) - ‘Data.zip’ saved [16727/16727]\n",
            "\n",
            "Archive:  Data.zip\n",
            "   creating: Data/\n",
            "  inflating: Data/Students_info_0.csv  \n",
            "  inflating: Data/Students_info_1.csv  \n",
            "  inflating: Data/Students_info_2.csv  \n",
            "  inflating: Data/Students_info_3.csv  \n",
            "  inflating: Data/Students_info_4.csv  \n",
            "  inflating: Data/Students_info_5.csv  \n",
            "  inflating: Data/Students_info_6.csv  \n",
            "  inflating: Data/Students_info_7.csv  \n",
            "  inflating: Data/Students_info_8.csv  \n",
            "  inflating: Data/Students_info_9.csv  \n",
            "  inflating: Data/Students_marks_0.csv  \n",
            "  inflating: Data/Students_marks_1.csv  \n",
            "  inflating: Data/Students_marks_2.csv  \n",
            "  inflating: Data/Students_marks_3.csv  \n",
            "  inflating: Data/Students_marks_4.csv  \n",
            "  inflating: Data/Students_marks_5.csv  \n",
            "  inflating: Data/Students_marks_6.csv  \n",
            "  inflating: Data/Students_marks_7.csv  \n",
            "  inflating: Data/Students_marks_8.csv  \n",
            "  inflating: Data/Students_marks_9.csv  \n"
          ]
        }
      ]
    },
    {
      "cell_type": "code",
      "execution_count": 38,
      "metadata": {
        "id": "8VG1dYPvOqE9",
        "colab": {
          "base_uri": "https://localhost:8080/"
        },
        "outputId": "92664ee8-d204-4f6a-f96d-0154766e84a1"
      },
      "outputs": [
        {
          "output_type": "stream",
          "name": "stdout",
          "text": [
            "Начало таблицы:\n",
            "   index  gender race/ethnicity parental level of education         lunch  \\\n",
            "0      0  female        group B           bachelor's degree      standard   \n",
            "1      1  female        group C                some college      standard   \n",
            "2      2  female        group B             master's degree      standard   \n",
            "3      3    male        group A          associate's degree  free/reduced   \n",
            "4      4    male        group C                some college      standard   \n",
            "\n",
            "  test preparation course   group  math score  reading score  writing score  \n",
            "0                    none  group1          72             72             74  \n",
            "1               completed  group1          69             90             88  \n",
            "2                    none  group1          90             95             93  \n",
            "3                    none  group1          47             57             44  \n",
            "4                    none  group1          76             78             75  \n",
            "Конец таблицы:\n",
            "     index  gender race/ethnicity parental level of education         lunch  \\\n",
            "995    995  female        group E             master's degree      standard   \n",
            "996    996    male        group C                 high school  free/reduced   \n",
            "997    997  female        group C                 high school  free/reduced   \n",
            "998    998  female        group D                some college      standard   \n",
            "999    999  female        group D                some college  free/reduced   \n",
            "\n",
            "    test preparation course    group  math score  reading score  writing score  \n",
            "995               completed  group10          88             99             95  \n",
            "996                    none  group10          62             55             55  \n",
            "997               completed  group10          59             71             65  \n",
            "998               completed  group10          68             78             77  \n",
            "999                    none  group10          77             86             86  \n"
          ]
        }
      ],
      "source": [
        "df_std = pd.read_csv('Data/Students_info_0.csv', sep=',')\n",
        "for i in range (1,10):\n",
        "  k=str(i)\n",
        "  m=\"Data/Students_info_\"+k+'.csv'\n",
        "  df_help = pd.read_csv(m, sep=',')\n",
        "  df_std=df_std.append(df_help, sort=False)\n",
        "df_grd=pd.read_csv('Data/Students_marks_0.csv', sep=',')\n",
        "for i in range (1,10):\n",
        "  k=str(i)\n",
        "  m=\"Data/Students_marks_\"+k+'.csv'\n",
        "  df_help = pd.read_csv(m, sep=',')\n",
        "  df_grd=df_grd.append(df_help, sort=False)\n",
        "df_final=pd.merge(df_std, df_grd, on='index', how='outer')\n",
        "print('Начало таблицы:')\n",
        "print(df_final.head())\n",
        "print('Конец таблицы:')\n",
        "print(df_final.tail())"
      ]
    },
    {
      "cell_type": "markdown",
      "metadata": {
        "_uuid": "8524af4cbd2f7b7810e8a3095a74c9fe1df7eafa",
        "id": "1LGewwWWOqE-"
      },
      "source": [
        "#### Задание 2. Удалите столбец index у полученной таблицы. Напечатайте первые 10 строк таблицы."
      ]
    },
    {
      "cell_type": "code",
      "execution_count": 39,
      "metadata": {
        "_uuid": "fe62eee87b9b94ab923f57b55eaf0554612aa9e9",
        "id": "7MdiVPprOqE-",
        "colab": {
          "base_uri": "https://localhost:8080/"
        },
        "outputId": "145cf8ab-edb3-4cea-854e-c22b5c8da864"
      },
      "outputs": [
        {
          "output_type": "stream",
          "name": "stdout",
          "text": [
            "Первые 10 строк таблицы:\n",
            "   gender race/ethnicity parental level of education         lunch  \\\n",
            "0  female        group B           bachelor's degree      standard   \n",
            "1  female        group C                some college      standard   \n",
            "2  female        group B             master's degree      standard   \n",
            "3    male        group A          associate's degree  free/reduced   \n",
            "4    male        group C                some college      standard   \n",
            "5  female        group B          associate's degree      standard   \n",
            "6  female        group B                some college      standard   \n",
            "7    male        group B                some college  free/reduced   \n",
            "8    male        group D                 high school  free/reduced   \n",
            "9  female        group B                 high school  free/reduced   \n",
            "\n",
            "  test preparation course   group  math score  reading score  writing score  \n",
            "0                    none  group1          72             72             74  \n",
            "1               completed  group1          69             90             88  \n",
            "2                    none  group1          90             95             93  \n",
            "3                    none  group1          47             57             44  \n",
            "4                    none  group1          76             78             75  \n",
            "5                    none  group1          71             83             78  \n",
            "6               completed  group1          88             95             92  \n",
            "7                    none  group1          40             43             39  \n",
            "8               completed  group1          64             64             67  \n",
            "9                    none  group1          38             60             50  \n"
          ]
        }
      ],
      "source": [
        "New_data=df_final[df_final.columns.drop(\"index\")]\n",
        "print('Первые 10 строк таблицы:')\n",
        "print(New_data.head(10))"
      ]
    },
    {
      "cell_type": "markdown",
      "metadata": {
        "_uuid": "5fcd622942b7ecfc318934c6a245d3bb3bf01e84",
        "id": "qAjmOmigOqE_"
      },
      "source": [
        "#### Задание 3. Выведите на экран размеры полученной таблицы"
      ]
    },
    {
      "cell_type": "code",
      "execution_count": 40,
      "metadata": {
        "_uuid": "16281cd7b4e941ebed8ca2e1b42f62f55d838684",
        "id": "sqUtSeSGOqE_",
        "colab": {
          "base_uri": "https://localhost:8080/"
        },
        "outputId": "7eb061c0-cd55-47ee-a572-a331051e0fbc"
      },
      "outputs": [
        {
          "output_type": "stream",
          "name": "stdout",
          "text": [
            "Размер таблицы: (1000, 9)\n",
            "Количество строк таблицы: 1000\n",
            "Количество столбцов таблицы: 9\n"
          ]
        }
      ],
      "source": [
        "print(\"Размер таблицы:\", New_data.shape)\n",
        "K=New_data.shape\n",
        "print('Количество строк таблицы:',K[0])\n",
        "print('Количество столбцов таблицы:',K[1])"
      ]
    },
    {
      "cell_type": "markdown",
      "metadata": {
        "_uuid": "fe8e3d58d29ca25dbbcf001392377643e6ff9a36",
        "id": "viwLp0YXOqFA"
      },
      "source": [
        "#### Задание 4. Выведите на экран статистические характеристики числовых столбцов таблицы (минимум, максимум, среднее значение, стандартное отклонение)"
      ]
    },
    {
      "cell_type": "code",
      "execution_count": 46,
      "metadata": {
        "_uuid": "e3d4bb80d2c4251fe517c24fcf08c5ff2d67b8aa",
        "id": "YHntO8z3OqFA",
        "colab": {
          "base_uri": "https://localhost:8080/"
        },
        "outputId": "bf056dfc-6b8d-4f7c-d78d-9e98d4872680"
      },
      "outputs": [
        {
          "output_type": "stream",
          "name": "stdout",
          "text": [
            "Минимум:\n",
            "math score        0\n",
            "reading score    17\n",
            "writing score    10\n",
            "dtype: int64\n",
            "Максимум:\n",
            "math score       100\n",
            "reading score    100\n",
            "writing score    100\n",
            "dtype: int64\n",
            "Среднее значение:\n",
            "math score       66.089\n",
            "reading score    69.169\n",
            "writing score    68.054\n",
            "dtype: float64\n",
            "Стандартное отклонение:\n",
            "math score       15.163080\n",
            "reading score    14.600192\n",
            "writing score    15.195657\n",
            "dtype: float64\n",
            "Для предмета math\n",
            "Минимум: 0\n",
            "Максимум: 100\n",
            "Среднее значение: 66.089\n",
            "Стандартное отклонение: 15.16308009600945\n",
            "Для предмета reading\n",
            "Минимум: 17\n",
            "Максимум: 100\n",
            "Среднее значение: 69.169\n",
            "Стандартное отклонение: 14.600191937252216\n",
            "Для предмета writing\n",
            "Минимум: 10\n",
            "Максимум: 100\n",
            "Среднее значение: 68.054\n",
            "Стандартное отклонение: 15.19565701086965\n",
            "       math score  reading score  writing score\n",
            "count  1000.00000    1000.000000    1000.000000\n",
            "mean     66.08900      69.169000      68.054000\n",
            "std      15.16308      14.600192      15.195657\n",
            "min       0.00000      17.000000      10.000000\n",
            "25%      57.00000      59.000000      57.750000\n",
            "50%      66.00000      70.000000      69.000000\n",
            "75%      77.00000      79.000000      79.000000\n",
            "max     100.00000     100.000000     100.000000\n"
          ]
        }
      ],
      "source": [
        "#Для всех предметов вместе:\n",
        "New_data_stat=New_data[New_data.columns.drop([\"gender\",'race/ethnicity','parental level of education','lunch','test preparation course','group'])]\n",
        "print('Минимум:',New_data_stat.min(), sep='\\n')\n",
        "print('Максимум:',New_data_stat.max(), sep='\\n')\n",
        "print('Среднее значение:',New_data_stat.mean(), sep='\\n')\n",
        "print('Стандартное отклонение:',New_data_stat.std(), sep='\\n')\n",
        "\n",
        "\n",
        "\n",
        "# Для каждого из предметов по-отдельности:\n",
        "Chisl_stolb=['math score','reading score',\"writing score\"]\n",
        "for i in Chisl_stolb:\n",
        "  print('Для предмета',i.split()[0])\n",
        "  Mmin=New_data[i].min()\n",
        "  Mmax=New_data[i].max()\n",
        "  Msred=New_data[i].mean()\n",
        "  Mstd=New_data[i].std()\n",
        "  print('Минимум:', Mmin)\n",
        "  print('Максимум:',Mmax)\n",
        "  print('Среднее значение:',Msred)\n",
        "  print('Стандартное отклонение:',Mstd)\n",
        "\n",
        "#еще вот так можно, но здесь есть доп характеристики:\n",
        "print(New_data_stat.describe())"
      ]
    },
    {
      "cell_type": "markdown",
      "metadata": {
        "_uuid": "b26b7de83485ecb3b8a0a7865a596e24527c7b2f",
        "id": "3pE6CWMVOqFB"
      },
      "source": [
        "#### Задание 5. Проверьте, есть ли в таблице пропущенные значения"
      ]
    },
    {
      "cell_type": "code",
      "execution_count": 42,
      "metadata": {
        "_uuid": "4eac3f8f83d07c6e58ad1576fe0e773f37034a2f",
        "id": "7LA7aX5sOqFB",
        "colab": {
          "base_uri": "https://localhost:8080/"
        },
        "outputId": "df92b6c5-c750-43c9-e484-257d2c65ca96"
      },
      "outputs": [
        {
          "output_type": "stream",
          "name": "stdout",
          "text": [
            "В таблице нет пропущенных значений\n"
          ]
        }
      ],
      "source": [
        "Nan_kol=New_data.isnull().sum().sum()\n",
        "if Nan_kol==0:\n",
        "  print('В таблице нет пропущенных значений')\n",
        "else:\n",
        "  print(\"В таблице есть пропущенные значения. Их количество равно\", Nan_kol)"
      ]
    },
    {
      "cell_type": "markdown",
      "metadata": {
        "id": "kjYhYgHCOqFB"
      },
      "source": [
        "#### Задание 6. Выведите на экран средние баллы студентов по каждому предмету (math, reading, writing)"
      ]
    },
    {
      "cell_type": "code",
      "execution_count": 43,
      "metadata": {
        "id": "jAMHlyUNOqFC",
        "colab": {
          "base_uri": "https://localhost:8080/"
        },
        "outputId": "873e67da-60d3-494b-9347-fd01413fa888"
      },
      "outputs": [
        {
          "output_type": "stream",
          "name": "stdout",
          "text": [
            "Для предмета math средний балл студентов составляет: 66.089\n",
            "Для предмета reading средний балл студентов составляет: 69.169\n",
            "Для предмета writing средний балл студентов составляет: 68.054\n"
          ]
        }
      ],
      "source": [
        "print('Для предмета math средний балл студентов составляет:', New_data['math score'].mean())\n",
        "print('Для предмета reading средний балл студентов составляет:', New_data['reading score'].mean())\n",
        "print('Для предмета writing средний балл студентов составляет:', New_data['writing score'].mean())"
      ]
    },
    {
      "cell_type": "markdown",
      "metadata": {
        "id": "oy9dJx20OqFC"
      },
      "source": [
        "**Задание 7. Как зависят оценки от того, проходил ли студент курс для подготовки к сдаче экзамена (test preparation course)? Выведите на экран для каждого предмета в отдельности средний балл студентов, проходивших курс для подготовки к экзамену и не проходивших курс.**"
      ]
    },
    {
      "cell_type": "code",
      "execution_count": 44,
      "metadata": {
        "id": "i1-8-QRrOqFC",
        "colab": {
          "base_uri": "https://localhost:8080/"
        },
        "outputId": "98583479-4fa7-4749-ca44-8513af1a64ec"
      },
      "outputs": [
        {
          "output_type": "stream",
          "name": "stdout",
          "text": [
            "Средний балл студентов в зависимости от прохождения курса подготовки к экзамену:\n",
            "                         math score  reading score  writing score\n",
            "test preparation course                                          \n",
            "completed                 69.695531      73.893855      74.418994\n",
            "none                      64.077882      66.534268      64.504673\n",
            "Вывод: Оценки студентов, прошедших курс подготовки к экзамену, выше по всем предметам\n",
            "Средний балл студентов в зависимости от прохождения курса подготовки к экзамену по math:\n",
            "test preparation course\n",
            "completed    69.695531\n",
            "none         64.077882\n",
            "Name: math score, dtype: float64\n",
            "Средний балл студентов в зависимости от прохождения курса подготовки к экзамену по reading:\n",
            "test preparation course\n",
            "completed    73.893855\n",
            "none         66.534268\n",
            "Name: reading score, dtype: float64\n",
            "Средний балл студентов в зависимости от прохождения курса подготовки к экзамену по writing:\n",
            "test preparation course\n",
            "completed    74.418994\n",
            "none         64.504673\n",
            "Name: writing score, dtype: float64\n"
          ]
        }
      ],
      "source": [
        "Exam=New_data.groupby(by='test preparation course')\n",
        "print('Средний балл студентов в зависимости от прохождения курса подготовки к экзамену:')\n",
        "print(Exam.mean())\n",
        "print('Вывод: Оценки студентов, прошедших курс подготовки к экзамену, выше по всем предметам')\n",
        "#Если формулировка \"для каждого предмета в отдельности\" означает прям отдельную строчку для каждого предмета, то вот:\n",
        "print('Средний балл студентов в зависимости от прохождения курса подготовки к экзамену по math:')\n",
        "print(Exam['math score'].mean())\n",
        "print('Средний балл студентов в зависимости от прохождения курса подготовки к экзамену по reading:')\n",
        "print(Exam['reading score'].mean())\n",
        "print('Средний балл студентов в зависимости от прохождения курса подготовки к экзамену по writing:')\n",
        "print(Exam['writing score'].mean())"
      ]
    },
    {
      "cell_type": "markdown",
      "metadata": {
        "id": "NScRN--OOqFD"
      },
      "source": [
        "**Задание 8. Выведите на экран все различные значения из столбца lunch.**"
      ]
    },
    {
      "cell_type": "code",
      "execution_count": 12,
      "metadata": {
        "id": "OXC1ZyX1OqFD",
        "colab": {
          "base_uri": "https://localhost:8080/"
        },
        "outputId": "daae63e3-3272-40ab-aa15-dd382374d860"
      },
      "outputs": [
        {
          "output_type": "stream",
          "name": "stdout",
          "text": [
            "В столбце lunch есть такие значения:\n",
            "standard, free/reduced\n"
          ]
        }
      ],
      "source": [
        "print('В столбце lunch есть такие значения:')\n",
        "print(*New_data.lunch.unique(), sep=', ')"
      ]
    },
    {
      "cell_type": "markdown",
      "metadata": {
        "id": "M2g9W9jUOqFE"
      },
      "source": [
        "**Задание 9. Переименуйте колонку \"parental level of education\" в \"education\", а \"test preparation course\" в \"test preparation\" с помощью метода pandas rename**\n",
        "https://pandas.pydata.org/pandas-docs/stable/reference/api/pandas.DataFrame.rename.html"
      ]
    },
    {
      "cell_type": "code",
      "execution_count": 33,
      "metadata": {
        "id": "4GFTffwVOqFE",
        "colab": {
          "base_uri": "https://localhost:8080/"
        },
        "outputId": "24c474be-958c-47b3-af38-c2586417008c"
      },
      "outputs": [
        {
          "output_type": "stream",
          "name": "stdout",
          "text": [
            "   gender race/ethnicity           education         lunch test preparation  \\\n",
            "0  female        group B   bachelor's degree      standard             none   \n",
            "1  female        group C        some college      standard        completed   \n",
            "2  female        group B     master's degree      standard             none   \n",
            "3    male        group A  associate's degree  free/reduced             none   \n",
            "4    male        group C        some college      standard             none   \n",
            "\n",
            "    group  math score  reading score  writing score  \n",
            "0  group1          72             72             74  \n",
            "1  group1          69             90             88  \n",
            "2  group1          90             95             93  \n",
            "3  group1          47             57             44  \n",
            "4  group1          76             78             75  \n"
          ]
        }
      ],
      "source": [
        "New_data=New_data.rename(columns={'parental level of education':'education', 'test preparation course':'test preparation'})\n",
        "print(New_data.head())"
      ]
    },
    {
      "cell_type": "markdown",
      "metadata": {
        "id": "7on-KQ9JOqFF"
      },
      "source": [
        "**Зафиксируем минимальный балл для сдачи экзамена**"
      ]
    },
    {
      "cell_type": "code",
      "execution_count": 14,
      "metadata": {
        "id": "POEdvUSUOqFF"
      },
      "outputs": [],
      "source": [
        "passmark = 50"
      ]
    },
    {
      "cell_type": "markdown",
      "metadata": {
        "id": "ZMoHOm_tOqFG"
      },
      "source": [
        "**Задание 10. Ответьте на вопросы:**\n",
        "    * Какая доля студентов сдала экзамен по математике (passmark >= 50)?\n",
        "    * Какая доля студентов, проходивших курс подготовки к экзамену, сдала экзамен по математике?\n",
        "    * Какая доля женщин, не проходивших курс подготовки к экзамену, не сдала экзамен по математике? "
      ]
    },
    {
      "cell_type": "code",
      "execution_count": 15,
      "metadata": {
        "id": "V1yXz3zPOqFG",
        "colab": {
          "base_uri": "https://localhost:8080/"
        },
        "outputId": "7e51f068-ddaf-48af-cbb0-65170bde676a"
      },
      "outputs": [
        {
          "output_type": "stream",
          "name": "stdout",
          "text": [
            "Доля студентов, сдавших экзамен по математике: 0.865 .Что равносильно 86.5 %\n",
            "Доля студентов, проходивших курс подготовки к экзамену и сдавших экзамен по математике: 0.9217877094972067 . Что равносильно 92.17877094972067 %\n",
            "Доля женщин, не проходивших курс подготовки к экзамену и не сдавших экзамен по математике: 0.20958083832335328 .Что равносильно 20.95808383233533 %\n"
          ]
        }
      ],
      "source": [
        "#Какая доля студентов сдала экзамен по математике (passmark >= 50)?\n",
        "Q1=New_data\n",
        "vsego=Q1.shape[0]\n",
        "sdali=len(Q1.loc[(Q1['math score']>=passmark)])\n",
        "print('Доля студентов, сдавших экзамен по математике:', sdali/vsego, '.Что равносильно', sdali*100/vsego, '%')\n",
        "#Какая доля студентов, проходивших курс подготовки к экзамену, сдала экзамен по математике? \n",
        "Q2=New_data\n",
        "sdali2=len(Q2.loc[(Q2[\"test preparation\"]=='completed') & (Q2[\"math score\"]>=passmark)])\n",
        "vsego2=len(Q2.loc[(Q2[\"test preparation\"]=='completed')])\n",
        "print('Доля студентов, проходивших курс подготовки к экзамену и сдавших экзамен по математике:',sdali2/vsego2,'. Что равносильно', sdali2*100/vsego2, '%' )\n",
        "#Какая доля женщин, не проходивших курс подготовки к экзамену, не сдала экзамен по математике?\n",
        "Q3=New_data\n",
        "sdali3=len(Q3.loc[(Q3[\"gender\"]=='female') & (Q3[\"test preparation\"]=='none') & (Q3[\"math score\"]<passmark)])\n",
        "vsego3=len(Q3.loc[(Q3[\"gender\"]=='female') & (Q3[\"test preparation\"]=='none')])\n",
        "print('Доля женщин, не проходивших курс подготовки к экзамену и не сдавших экзамен по математике:', sdali3/vsego3,'.Что равносильно',sdali3*100/vsego3,'%')"
      ]
    },
    {
      "cell_type": "markdown",
      "metadata": {
        "id": "w9fe7BS8OqFG"
      },
      "source": [
        "**Задание 11. С помощью groupby выполните задания ниже. Также выведите время выполнения каждого из заданий.**\n",
        "    * Для каждой этнической группы выведите средний балл за экзамен по чтению\n",
        "    * Для каждого уровня образования выведите минимальный балл за экзамен по письму"
      ]
    },
    {
      "cell_type": "code",
      "execution_count": 16,
      "metadata": {
        "id": "TDyDlw3GOqFG",
        "colab": {
          "base_uri": "https://localhost:8080/"
        },
        "outputId": "56aac59f-ab45-403c-f53d-8b3befee2ff4"
      },
      "outputs": [
        {
          "output_type": "stream",
          "name": "stdout",
          "text": [
            "Средний балл за экзамен по чтению для каждой этнической группы:\n",
            "race/ethnicity\n",
            "group A    64.674157\n",
            "group B    67.352632\n",
            "group C    69.103448\n",
            "group D    70.030534\n",
            "group E    73.028571\n",
            "Name: reading score, dtype: float64\n",
            "Время выполнения задания 1: 0.005110979080200195\n",
            "Минимальный балл за экзамен по письму для каждого уровня образования:\n",
            "education\n",
            "associate's degree    35\n",
            "bachelor's degree     38\n",
            "high school           15\n",
            "master's degree       46\n",
            "some college          19\n",
            "some high school      10\n",
            "Name: writing score, dtype: int64\n",
            "Время выполнения задания 2: 0.006514549255371094\n"
          ]
        }
      ],
      "source": [
        "import time \n",
        "#Для каждой этнической группы выведите средний балл за экзамен по чтению\n",
        "start = time.time()\n",
        "print('Средний балл за экзамен по чтению для каждой этнической группы:')\n",
        "print(New_data.groupby('race/ethnicity')['reading score'].mean())\n",
        "end = time.time() - start\n",
        "print('Время выполнения задания 1:',end)\n",
        "#Для каждого уровня образования выведите минимальный балл за экзамен по письму\n",
        "start2 = time.time()\n",
        "print('Минимальный балл за экзамен по письму для каждого уровня образования:')\n",
        "print(New_data.groupby('education')['writing score'].min())\n",
        "end2 = time.time() - start2\n",
        "print('Время выполнения задания 2:',end2)"
      ]
    },
    {
      "cell_type": "markdown",
      "metadata": {
        "id": "k8ixomeAOqFH"
      },
      "source": [
        "**Задание 12. Выполните задание 11 с помощью циклов. Сравните время выполнения.**"
      ]
    },
    {
      "cell_type": "code",
      "execution_count": 17,
      "metadata": {
        "id": "ryBs2-ylOqFH",
        "colab": {
          "base_uri": "https://localhost:8080/"
        },
        "outputId": "9db30c5e-2e8f-43de-df79-66a2ab2ebd08"
      },
      "outputs": [
        {
          "output_type": "stream",
          "name": "stdout",
          "text": [
            "Средний балл за экзамен по чтению для каждой этнической группы:\n",
            "group A    64.67415730337079\n",
            "group B    67.35263157894737\n",
            "group C    69.10344827586206\n",
            "group D    70.03053435114504\n",
            "group E    73.02857142857142\n",
            "Время выполнения задания 1: 0.14089632034301758\n",
            "Это на 0.13578534126281738 дольше, чем время в задании 11\n",
            "Минимальный балл за экзамен по письму для каждого уровня образования:\n",
            "associate's degree - 35\n",
            "bachelor's degree - 38\n",
            "high school - 15\n",
            "master's degree - 46\n",
            "some college - 19\n",
            "some high school - 10\n",
            "Время выполнения задания 2: 0.1137857437133789\n",
            "Это на 0.10727119445800781 дольше, чем время в задании 11\n"
          ]
        }
      ],
      "source": [
        "#Для каждой этнической группы выведите средний балл за экзамен по чтению\n",
        "start3 = time.time()\n",
        "Ball={}\n",
        "Kolvo={}\n",
        "for i in range(0,New_data.shape[0]):\n",
        "  Helper=New_data.loc[i]\n",
        "  if Helper['race/ethnicity'] in Ball:\n",
        "    Ball[Helper['race/ethnicity']]+=Helper['reading score']\n",
        "  else:\n",
        "    Ball[Helper['race/ethnicity']]=Helper['reading score']\n",
        "  if Helper['race/ethnicity'] in Kolvo:\n",
        "    Kolvo[Helper['race/ethnicity']]+=1\n",
        "  else:\n",
        "    Kolvo[Helper['race/ethnicity']]=1\n",
        "Srednie_balli={}\n",
        "for i in Ball:\n",
        "  Srednie_balli[i]=Ball[i]/Kolvo[i]\n",
        "print('Средний балл за экзамен по чтению для каждой этнической группы:')\n",
        "for i in sorted(Srednie_balli):\n",
        "  print(i,'  ', Srednie_balli[i] )\n",
        "end3 = time.time() - start3\n",
        "print('Время выполнения задания 1:',end3) \n",
        "print('Это на', end3-end ,'дольше, чем время в задании 11')\n",
        "\n",
        "#Для каждого уровня образования выведите минимальный балл за экзамен по письму\n",
        "start4 = time.time()\n",
        "Balli={}\n",
        "for i in range(0,New_data.shape[0]):\n",
        "  Helper=New_data.loc[i]\n",
        "  if Helper['education'] in Balli:\n",
        "    if Balli[Helper['education']]>Helper['writing score']:\n",
        "      Balli[Helper['education']]=Helper['writing score']\n",
        "  else:\n",
        "    Balli[Helper['education']]=Helper['writing score']\n",
        "print('Минимальный балл за экзамен по письму для каждого уровня образования:')\n",
        "for i in sorted(Balli):\n",
        "  print(i, '-' ,Balli[i] )\n",
        "end4 = time.time() - start4\n",
        "print('Время выполнения задания 2:',end4) \n",
        "print('Это на', end4-end2 ,'дольше, чем время в задании 11')"
      ]
    },
    {
      "cell_type": "markdown",
      "metadata": {
        "id": "U0yG_IwjOqFH"
      },
      "source": [
        "**Задание 13. Выведите на экран средние баллы студентов по каждому предмету в зависимости от пола и уровня образования. То есть должно получиться количество групп, равных 2 * (число уровней образования), и для каждой такой группы выыведите средний балл по каждому из предметов.**\n",
        "\n",
        "Это можно сделать с помощью сводных таблиц (pivot_table):\n",
        "\n",
        "https://www.kaggle.com/kamilpolak/tutorial-how-to-use-pivot-table-in-pandas"
      ]
    },
    {
      "cell_type": "code",
      "execution_count": 18,
      "metadata": {
        "id": "K2gOmstoOqFI",
        "colab": {
          "base_uri": "https://localhost:8080/"
        },
        "outputId": "d51f0523-c675-4ef7-b4e9-9ff1c0cafb09"
      },
      "outputs": [
        {
          "output_type": "stream",
          "name": "stdout",
          "text": [
            "Cредние баллы студентов по каждому предмету в зависимости от пола и уровня образования:\n",
            "                           math score  reading score  writing score\n",
            "gender education                                                   \n",
            "female associate's degree   65.250000      74.120690      74.000000\n",
            "       bachelor's degree    68.349206      77.285714      78.380952\n",
            "       high school          59.351064      68.202128      66.691489\n",
            "       master's degree      66.500000      76.805556      77.638889\n",
            "       some college         65.406780      73.550847      74.050847\n",
            "       some high school     59.296703      69.109890      68.285714\n",
            "male   associate's degree   70.764151      67.433962      65.405660\n",
            "       bachelor's degree    70.581818      68.090909      67.654545\n",
            "       high school          64.705882      61.480392      58.539216\n",
            "       master's degree      74.826087      73.130435      72.608696\n",
            "       some college         69.009259      64.990741      63.148148\n",
            "       some high school     67.840909      64.693182      61.375000\n"
          ]
        }
      ],
      "source": [
        "St_gr=pd.pivot_table(New_data,index=['gender','education'],values=['math score', 'reading score', 'writing score'],aggfunc=\"mean\")\n",
        "print('Cредние баллы студентов по каждому предмету в зависимости от пола и уровня образования:')\n",
        "print(St_gr)"
      ]
    },
    {
      "cell_type": "markdown",
      "metadata": {
        "_uuid": "3e832cb427c4314582d1953a41b8c78db75e30e3",
        "id": "fI78TJ_oOqFI"
      },
      "source": [
        "#### Задание 14. Сколько студентов успешно сдали экзамен по математике?\n",
        "\n",
        "Создайте новый столбец в таблице df под названием Math_PassStatus и запишите в него F, если студент не сдал экзамен по математике (балл за экзамен < passmark), и P иначе.\n",
        "\n",
        "Посчитайте количество студентов, сдавших и не сдавших экзамен по математике.\n",
        "\n",
        "Сделайте аналогичные шаги для экзаменов по чтению и письму."
      ]
    },
    {
      "cell_type": "code",
      "execution_count": 20,
      "metadata": {
        "_uuid": "f43cddb72cc96b30df84bc0de83a4d9170904340",
        "id": "xQ5GDqTiOqFI",
        "colab": {
          "base_uri": "https://localhost:8080/"
        },
        "outputId": "49329462-a3eb-47e3-f255-44193ae49bda"
      },
      "outputs": [
        {
          "output_type": "stream",
          "name": "stdout",
          "text": [
            "Количество студентов, сдавших (Р) и не сдавших (F) экзамен по математике:\n",
            "P    865\n",
            "F    135\n",
            "Name: Math_PassStatus, dtype: int64\n",
            "Количество студентов, сдавших (Р) и не сдавших (F) экзамен по чтению:\n",
            "P    910\n",
            "F     90\n",
            "Name: Reading_PassStatus, dtype: int64\n",
            "Количество студентов, сдавших (Р) и не сдавших (F) экзамен по письму:\n",
            "P    886\n",
            "F    114\n",
            "Name: Writing_PassStatus, dtype: int64\n"
          ]
        }
      ],
      "source": [
        "df=New_data\n",
        "Helper=['F','P']\n",
        "df['Math_PassStatus']=df[\"math score\"].apply(lambda b: Helper[int(b>=passmark)])\n",
        "print(\"Количество студентов, сдавших (Р) и не сдавших (F) экзамен по математике:\")\n",
        "print(df['Math_PassStatus'].value_counts())\n",
        "df['Reading_PassStatus']=df[\"reading score\"].apply(lambda b: Helper[int(b>=passmark)])\n",
        "print(\"Количество студентов, сдавших (Р) и не сдавших (F) экзамен по чтению:\")\n",
        "print(df['Reading_PassStatus'].value_counts())\n",
        "df['Writing_PassStatus']=df[\"writing score\"].apply(lambda b: Helper[int(b>=passmark)])\n",
        "print(\"Количество студентов, сдавших (Р) и не сдавших (F) экзамен по письму:\")\n",
        "print(df['Writing_PassStatus'].value_counts())"
      ]
    },
    {
      "cell_type": "markdown",
      "metadata": {
        "_uuid": "b753c90914ee65501e2ed263ea614d88a381c472",
        "id": "6pvw9iPXOqFJ"
      },
      "source": [
        "#### Задание 15. Сколько студентов успешно сдали все экзамены?\n",
        "\n",
        "Создайте столбец OverAll_PassStatus и запишите в него для каждого студента 'F', если студент не сдал хотя бы один из трех экзаменов, а иначе 'P'.\n",
        "\n",
        "Посчитайте количество студентов, которые сдали все экзамены."
      ]
    },
    {
      "cell_type": "code",
      "execution_count": 21,
      "metadata": {
        "_uuid": "e98f895a022b967cab801447b616222439fe9d84",
        "id": "7dI4rfUqOqFJ",
        "colab": {
          "base_uri": "https://localhost:8080/"
        },
        "outputId": "f798b66a-804f-4c41-f136-708609d12349"
      },
      "outputs": [
        {
          "output_type": "stream",
          "name": "stdout",
          "text": [
            "Количество студентов, сдавших все экзамены: 812\n"
          ]
        }
      ],
      "source": [
        "Helper=['F','P']\n",
        "df['OverAll_PassStatus']=df[\"Math_PassStatus\"].apply(lambda b: 3-int(b=='F'))\n",
        "df['OverAll_PassStatus']+=df[\"Reading_PassStatus\"].apply(lambda b: -int(b=='F'))\n",
        "df['OverAll_PassStatus']+=df[\"Writing_PassStatus\"].apply(lambda b: -int(b=='F'))\n",
        "df['OverAll_PassStatus']=df['OverAll_PassStatus'].apply(lambda b: Helper[int(b==3)])\n",
        "print('Количество студентов, сдавших все экзамены:', df['OverAll_PassStatus'].value_counts()[0])"
      ]
    },
    {
      "cell_type": "markdown",
      "metadata": {
        "_uuid": "3af9c6cb4cbfff66d4ae09509f10b8b6ce33075d",
        "id": "NzralTBmOqFJ"
      },
      "source": [
        "#### Задание 16. Переведем баллы в оценки\n",
        "\n",
        "### Система перевода баллов в оценки\n",
        "####    больше 90 = A\n",
        "####      80-90 = B\n",
        "####      70-80 = C\n",
        "####      60-70 = D\n",
        "####      50-60 = E\n",
        "####    меньше 50 = F (Fail)\n",
        "\n",
        "Создайте вспомогательную функцию, которая будет по среднему баллу за три экзамена выставлять оценку студенту по данным выше критериям.\n",
        "\n",
        "Создайте столбец Grade и запишите в него оценку каждого студента.\n",
        "\n",
        "Выведите количество студентов, получивших каждую из оценок.\n",
        "\n",
        "**В случае, если средний балл попадает на границу между оценками (т.е. равен ровно 60, 70 или 80 баллов), вы можете интерпретировать условие на своё усмотрение (т.е. можете поставить за 60 баллов оценку D, а можете - E).**"
      ]
    },
    {
      "cell_type": "code",
      "execution_count": 22,
      "metadata": {
        "_uuid": "04707c5be4237020b906d2ac705a0db3d620506f",
        "id": "9kk9kWFgOqFK",
        "colab": {
          "base_uri": "https://localhost:8080/"
        },
        "outputId": "c5380522-a224-42ed-aec2-e03d33170156"
      },
      "outputs": [
        {
          "output_type": "stream",
          "name": "stdout",
          "text": [
            "Количество студентов, получивших каждую из оценок:\n",
            "C    261\n",
            "D    256\n",
            "E    182\n",
            "B    146\n",
            "F    103\n",
            "A     52\n",
            "Name: Grade, dtype: int64\n"
          ]
        }
      ],
      "source": [
        "def GetGrade(average_mark):\n",
        "    if average_mark>=90:\n",
        "      return 'A'\n",
        "    elif average_mark<90 and average_mark>=80:\n",
        "      return 'B'\n",
        "    elif average_mark<80 and average_mark>=70:\n",
        "      return 'C'\n",
        "    elif average_mark<70 and average_mark>=60:\n",
        "      return 'D'\n",
        "    elif average_mark<60 and average_mark>=50:\n",
        "      return 'E'\n",
        "    else:\n",
        "      return 'F'\n",
        "df['Grade']=df[\"math score\"]\n",
        "df['Grade']+=df[\"reading score\"]\n",
        "df['Grade']+=df[\"writing score\"]\n",
        "df['Grade']=df['Grade'].apply(lambda b: b/3)\n",
        "df['Grade']=df['Grade'].apply(GetGrade)\n",
        "print('Количество студентов, получивших каждую из оценок:')\n",
        "print(df['Grade'].value_counts())"
      ]
    }
  ],
  "metadata": {
    "kernelspec": {
      "display_name": "Python 3 (ipykernel)",
      "language": "python",
      "name": "python3"
    },
    "language_info": {
      "codemirror_mode": {
        "name": "ipython",
        "version": 3
      },
      "file_extension": ".py",
      "mimetype": "text/x-python",
      "name": "python",
      "nbconvert_exporter": "python",
      "pygments_lexer": "ipython3",
      "version": "3.7.9"
    },
    "colab": {
      "provenance": []
    }
  },
  "nbformat": 4,
  "nbformat_minor": 0
}